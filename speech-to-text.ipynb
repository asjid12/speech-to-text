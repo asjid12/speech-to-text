{
 "cells": [
  {
   "cell_type": "code",
   "execution_count": 7,
   "metadata": {},
   "outputs": [
    {
     "name": "stdout",
     "output_type": "stream",
     "text": [
      "Requirement already satisfied: openai-whisper in c:\\users\\lenovo\\appdata\\local\\programs\\python\\python310\\lib\\site-packages (20240930)\n",
      "Requirement already satisfied: more-itertools in c:\\users\\lenovo\\appdata\\local\\programs\\python\\python310\\lib\\site-packages (from openai-whisper) (10.6.0)\n",
      "Requirement already satisfied: tiktoken in c:\\users\\lenovo\\appdata\\local\\programs\\python\\python310\\lib\\site-packages (from openai-whisper) (0.9.0)\n",
      "Requirement already satisfied: tqdm in c:\\users\\lenovo\\appdata\\local\\programs\\python\\python310\\lib\\site-packages (from openai-whisper) (4.67.1)\n",
      "Requirement already satisfied: numba in c:\\users\\lenovo\\appdata\\local\\programs\\python\\python310\\lib\\site-packages (from openai-whisper) (0.61.0)\n",
      "Requirement already satisfied: numpy in c:\\users\\lenovo\\appdata\\local\\programs\\python\\python310\\lib\\site-packages (from openai-whisper) (2.1.3)\n",
      "Requirement already satisfied: torch in c:\\users\\lenovo\\appdata\\local\\programs\\python\\python310\\lib\\site-packages (from openai-whisper) (2.6.0)\n",
      "Requirement already satisfied: llvmlite<0.45,>=0.44.0dev0 in c:\\users\\lenovo\\appdata\\local\\programs\\python\\python310\\lib\\site-packages (from numba->openai-whisper) (0.44.0)\n",
      "Requirement already satisfied: regex>=2022.1.18 in c:\\users\\lenovo\\appdata\\local\\programs\\python\\python310\\lib\\site-packages (from tiktoken->openai-whisper) (2024.11.6)\n",
      "Requirement already satisfied: requests>=2.26.0 in c:\\users\\lenovo\\appdata\\local\\programs\\python\\python310\\lib\\site-packages (from tiktoken->openai-whisper) (2.32.3)\n",
      "Requirement already satisfied: typing-extensions>=4.10.0 in c:\\users\\lenovo\\appdata\\roaming\\python\\python310\\site-packages (from torch->openai-whisper) (4.12.2)\n",
      "Requirement already satisfied: networkx in c:\\users\\lenovo\\appdata\\local\\programs\\python\\python310\\lib\\site-packages (from torch->openai-whisper) (3.4.2)\n",
      "Requirement already satisfied: jinja2 in c:\\users\\lenovo\\appdata\\local\\programs\\python\\python310\\lib\\site-packages (from torch->openai-whisper) (3.1.5)\n",
      "Requirement already satisfied: sympy==1.13.1 in c:\\users\\lenovo\\appdata\\local\\programs\\python\\python310\\lib\\site-packages (from torch->openai-whisper) (1.13.1)\n",
      "Requirement already satisfied: fsspec in c:\\users\\lenovo\\appdata\\local\\programs\\python\\python310\\lib\\site-packages (from torch->openai-whisper) (2025.2.0)\n",
      "Requirement already satisfied: filelock in c:\\users\\lenovo\\appdata\\local\\programs\\python\\python310\\lib\\site-packages (from torch->openai-whisper) (3.17.0)\n",
      "Requirement already satisfied: mpmath<1.4,>=1.1.0 in c:\\users\\lenovo\\appdata\\local\\programs\\python\\python310\\lib\\site-packages (from sympy==1.13.1->torch->openai-whisper) (1.3.0)\n",
      "Requirement already satisfied: colorama in c:\\users\\lenovo\\appdata\\roaming\\python\\python310\\site-packages (from tqdm->openai-whisper) (0.4.6)\n",
      "Requirement already satisfied: certifi>=2017.4.17 in c:\\users\\lenovo\\appdata\\local\\programs\\python\\python310\\lib\\site-packages (from requests>=2.26.0->tiktoken->openai-whisper) (2025.1.31)\n",
      "Requirement already satisfied: urllib3<3,>=1.21.1 in c:\\users\\lenovo\\appdata\\local\\programs\\python\\python310\\lib\\site-packages (from requests>=2.26.0->tiktoken->openai-whisper) (2.3.0)\n",
      "Requirement already satisfied: charset-normalizer<4,>=2 in c:\\users\\lenovo\\appdata\\local\\programs\\python\\python310\\lib\\site-packages (from requests>=2.26.0->tiktoken->openai-whisper) (3.4.1)\n",
      "Requirement already satisfied: idna<4,>=2.5 in c:\\users\\lenovo\\appdata\\local\\programs\\python\\python310\\lib\\site-packages (from requests>=2.26.0->tiktoken->openai-whisper) (3.10)\n",
      "Requirement already satisfied: MarkupSafe>=2.0 in c:\\users\\lenovo\\appdata\\local\\programs\\python\\python310\\lib\\site-packages (from jinja2->torch->openai-whisper) (2.1.5)\n",
      "Note: you may need to restart the kernel to use updated packages.\n"
     ]
    },
    {
     "name": "stderr",
     "output_type": "stream",
     "text": [
      "\n",
      "[notice] A new release of pip available: 22.3.1 -> 25.0.1\n",
      "[notice] To update, run: python.exe -m pip install --upgrade pip\n"
     ]
    }
   ],
   "source": [
    "pip install -U openai-whisper"
   ]
  },
  {
   "cell_type": "code",
   "execution_count": 11,
   "metadata": {},
   "outputs": [
    {
     "name": "stdout",
     "output_type": "stream",
     "text": [
      "Requirement already satisfied: sounddevice in c:\\users\\lenovo\\appdata\\local\\programs\\python\\python312\\lib\\site-packages (0.5.1)\n",
      "Requirement already satisfied: CFFI>=1.0 in c:\\users\\lenovo\\appdata\\local\\programs\\python\\python312\\lib\\site-packages (from sounddevice) (1.17.1)\n",
      "Requirement already satisfied: pycparser in c:\\users\\lenovo\\appdata\\local\\programs\\python\\python312\\lib\\site-packages (from CFFI>=1.0->sounddevice) (2.22)\n"
     ]
    },
    {
     "name": "stderr",
     "output_type": "stream",
     "text": [
      "\n",
      "[notice] A new release of pip is available: 24.3.1 -> 25.0.1\n",
      "[notice] To update, run: C:\\Users\\Lenovo\\AppData\\Local\\Programs\\Python\\Python312\\python.exe -m pip install --upgrade pip\n"
     ]
    }
   ],
   "source": [
    "!pip install sounddevice"
   ]
  },
  {
   "cell_type": "code",
   "execution_count": 1,
   "metadata": {},
   "outputs": [
    {
     "name": "stderr",
     "output_type": "stream",
     "text": [
      "c:\\Users\\Lenovo\\AppData\\Local\\Programs\\Python\\Python310\\lib\\site-packages\\tqdm\\auto.py:21: TqdmWarning: IProgress not found. Please update jupyter and ipywidgets. See https://ipywidgets.readthedocs.io/en/stable/user_install.html\n",
      "  from .autonotebook import tqdm as notebook_tqdm\n"
     ]
    },
    {
     "name": "stdout",
     "output_type": "stream",
     "text": [
      "* Running on local URL:  http://127.0.0.1:7860\n",
      "\n",
      "To create a public link, set `share=True` in `launch()`.\n"
     ]
    },
    {
     "data": {
      "text/html": [
       "<div><iframe src=\"http://127.0.0.1:7860/\" width=\"100%\" height=\"500\" allow=\"autoplay; camera; microphone; clipboard-read; clipboard-write;\" frameborder=\"0\" allowfullscreen></iframe></div>"
      ],
      "text/plain": [
       "<IPython.core.display.HTML object>"
      ]
     },
     "metadata": {},
     "output_type": "display_data"
    },
    {
     "data": {
      "text/plain": []
     },
     "execution_count": 1,
     "metadata": {},
     "output_type": "execute_result"
    }
   ],
   "source": [
    "# import gradio as gr\n",
    "# import sounddevice as sd\n",
    "# import numpy as np\n",
    "# import scipy.io.wavfile as wav\n",
    "# import tempfile\n",
    "# import os\n",
    "# import whisper\n",
    "\n",
    "# # Load the Whisper model\n",
    "# model = whisper.load_model(\"base\")\n",
    "\n",
    "# def record_audio(duration=5, samplerate=44100):\n",
    "#     \"\"\"Records audio for a given duration and returns the file path.\"\"\"\n",
    "#     print(\"Recording...\")\n",
    "#     audio_data = sd.rec(int(duration * samplerate), samplerate=samplerate, channels=1, dtype=np.int16)\n",
    "#     sd.wait()\n",
    "#     print(\"Recording finished.\")\n",
    "\n",
    "#     # Save to a temporary WAV file\n",
    "#     temp_wav_file = tempfile.NamedTemporaryFile(delete=False, suffix=\".wav\")\n",
    "#     wav.write(temp_wav_file.name, samplerate, audio_data)\n",
    "#     return temp_wav_file.name\n",
    "\n",
    "# def transcribe_audio(file_path):\n",
    "#     \"\"\"Transcribes the uploaded or recorded audio file using Whisper.\"\"\"\n",
    "#     print(f\"Processing file: {file_path}\")\n",
    "#     result = model.transcribe(file_path)\n",
    "#     return result[\"text\"]\n",
    "\n",
    "# # Gradio UI\n",
    "# with gr.Blocks() as app:\n",
    "#     gr.Markdown(\"## 🎙️ Speech-to-Text Transcription\")\n",
    "\n",
    "#     with gr.Row():\n",
    "#         record_btn = gr.Button(\"🎤 Record Audio\")\n",
    "#         upload_btn = gr.File(label=\"📂 Upload Audio File\", type=\"filepath\")\n",
    "\n",
    "#     with gr.Row():\n",
    "#         output_text = gr.Textbox(label=\"📝 Transcription Output\", placeholder=\"Your transcribed text will appear here...\")\n",
    "\n",
    "#     # Handle recording\n",
    "#     def record_and_transcribe():\n",
    "#         audio_path = record_audio()\n",
    "#         return transcribe_audio(audio_path)\n",
    "\n",
    "#     # Button Click Events\n",
    "#     record_btn.click(record_and_transcribe, outputs=output_text)\n",
    "#     upload_btn.change(transcribe_audio, inputs=upload_btn, outputs=output_text)\n",
    "\n",
    "# # Launch the app\n",
    "# app.launch()\n",
    "\n",
    "import gradio as gr\n",
    "import sounddevice as sd\n",
    "import numpy as np\n",
    "import scipy.io.wavfile as wav\n",
    "import tempfile\n",
    "import os\n",
    "import whisper\n",
    "import matplotlib.pyplot as plt\n",
    "\n",
    "# Load Whisper model\n",
    "model = whisper.load_model(\"base\")\n",
    "\n",
    "# Supported languages for transcription\n",
    "languages = [\"English\", \"Spanish\", \"French\", \"German\", \"Chinese\", \"Hindi\"]\n",
    "\n",
    "def record_audio(duration=5, samplerate=44100, noise_reduction=False):\n",
    "    \"\"\"Records audio, optionally applies noise reduction, and returns the file path.\"\"\"\n",
    "    print(\"🎙️ Recording started...\")\n",
    "    audio_data = sd.rec(int(duration * samplerate), samplerate=samplerate, channels=1, dtype=np.int16)\n",
    "    sd.wait()\n",
    "    print(\"✅ Recording finished.\")\n",
    "\n",
    "    # Save as WAV file\n",
    "    temp_wav_file = tempfile.NamedTemporaryFile(delete=False, suffix=\".wav\")\n",
    "    wav.write(temp_wav_file.name, samplerate, audio_data)\n",
    "\n",
    "    # Noise Reduction (Basic)\n",
    "    if noise_reduction:\n",
    "        audio_data = audio_data - np.mean(audio_data)\n",
    "\n",
    "    return temp_wav_file.name, audio_data\n",
    "\n",
    "def transcribe_audio(file_path, language):\n",
    "    \"\"\"Transcribes audio file based on the selected language.\"\"\"\n",
    "    print(f\"📝 Transcribing {file_path} in {language}...\")\n",
    "    lang_code = {\"English\": \"en\", \"Spanish\": \"es\", \"French\": \"fr\", \"German\": \"de\", \"Chinese\": \"zh\", \"Hindi\": \"hi\"}[language]\n",
    "    result = model.transcribe(file_path, language=lang_code)\n",
    "    return result[\"text\"]\n",
    "\n",
    "def plot_waveform(audio_data):\n",
    "    \"\"\"Generates waveform visualization from audio data.\"\"\"\n",
    "    plt.figure(figsize=(8, 2))\n",
    "    plt.plot(audio_data, color=\"purple\")\n",
    "    plt.title(\"Audio Waveform\")\n",
    "    plt.xlabel(\"Time\")\n",
    "    plt.ylabel(\"Amplitude\")\n",
    "    plt.grid()\n",
    "    \n",
    "    # Save plot as image\n",
    "    temp_plot = tempfile.NamedTemporaryFile(delete=False, suffix=\".png\")\n",
    "    plt.savefig(temp_plot.name)\n",
    "    plt.close()\n",
    "    return temp_plot.name\n",
    "\n",
    "# Gradio UI\n",
    "with gr.Blocks() as app:\n",
    "    gr.Markdown(\"## 🎙️ Speech-to-Text Transcription App\")\n",
    "    \n",
    "    # User Input Controls\n",
    "    with gr.Row():\n",
    "        duration_input = gr.Slider(1, 10, value=5, label=\"⏳ Recording Duration (seconds)\")\n",
    "        noise_reduction_toggle = gr.Checkbox(label=\"🔇 Apply Noise Reduction\")\n",
    "        language_select = gr.Dropdown(languages, label=\"🌍 Select Language\", value=\"English\")\n",
    "\n",
    "    with gr.Row():\n",
    "        record_btn = gr.Button(\"🎤 Record Audio\")\n",
    "        upload_btn = gr.File(label=\"📂 Upload Audio File\", type=\"filepath\")\n",
    "\n",
    "    with gr.Row():\n",
    "        audio_player = gr.Audio(label=\"🔊 Audio Playback\", interactive=False)\n",
    "        waveform_img = gr.Image(label=\"📈 Audio Waveform\")\n",
    "\n",
    "    with gr.Row():\n",
    "        output_text = gr.Textbox(label=\"📝 Transcription Output\", placeholder=\"Your transcribed text will appear here...\")\n",
    "    \n",
    "    download_btn = gr.Button(\"⬇️ Download Transcription\")\n",
    "\n",
    "    # Handle recording\n",
    "    def record_and_transcribe(duration, noise_reduction, language):\n",
    "        audio_path, audio_data = record_audio(duration, noise_reduction=noise_reduction)\n",
    "        transcription = transcribe_audio(audio_path, language)\n",
    "        waveform_path = plot_waveform(audio_data)\n",
    "        return audio_path, waveform_path, transcription\n",
    "\n",
    "    # Handle download\n",
    "    def save_transcription(text):\n",
    "        file_path = tempfile.NamedTemporaryFile(delete=False, suffix=\".txt\").name\n",
    "        with open(file_path, \"w\") as file:\n",
    "            file.write(text)\n",
    "        return file_path\n",
    "\n",
    "    # Button Click Events\n",
    "    record_btn.click(record_and_transcribe, inputs=[duration_input, noise_reduction_toggle, language_select], outputs=[audio_player, waveform_img, output_text])\n",
    "    upload_btn.change(transcribe_audio, inputs=[upload_btn, language_select], outputs=output_text)\n",
    "    download_btn.click(save_transcription, inputs=output_text, outputs=gr.File())\n",
    "\n",
    "# Launch the app\n",
    "app.launch()\n"
   ]
  },
  {
   "cell_type": "code",
   "execution_count": 17,
   "metadata": {},
   "outputs": [
    {
     "name": "stdout",
     "output_type": "stream",
     "text": [
      "Collecting matplotlib\n",
      "  Downloading matplotlib-3.10.0-cp310-cp310-win_amd64.whl (8.0 MB)\n",
      "     ---------------------------------------- 8.0/8.0 MB 14.7 MB/s eta 0:00:00\n",
      "Requirement already satisfied: numpy>=1.23 in c:\\users\\lenovo\\appdata\\local\\programs\\python\\python310\\lib\\site-packages (from matplotlib) (2.1.3)\n",
      "Collecting kiwisolver>=1.3.1\n",
      "  Downloading kiwisolver-1.4.8-cp310-cp310-win_amd64.whl (71 kB)\n",
      "     ---------------------------------------- 71.9/71.9 kB 2.0 MB/s eta 0:00:00\n",
      "Collecting cycler>=0.10\n",
      "  Downloading cycler-0.12.1-py3-none-any.whl (8.3 kB)\n",
      "Collecting contourpy>=1.0.1\n",
      "  Downloading contourpy-1.3.1-cp310-cp310-win_amd64.whl (218 kB)\n",
      "     -------------------------------------- 218.6/218.6 kB 1.7 MB/s eta 0:00:00\n",
      "Collecting fonttools>=4.22.0\n",
      "  Downloading fonttools-4.56.0-cp310-cp310-win_amd64.whl (2.2 MB)\n",
      "     ---------------------------------------- 2.2/2.2 MB 17.5 MB/s eta 0:00:00\n",
      "Requirement already satisfied: packaging>=20.0 in c:\\users\\lenovo\\appdata\\roaming\\python\\python310\\site-packages (from matplotlib) (24.2)\n",
      "Requirement already satisfied: python-dateutil>=2.7 in c:\\users\\lenovo\\appdata\\roaming\\python\\python310\\site-packages (from matplotlib) (2.9.0.post0)\n",
      "Collecting pyparsing>=2.3.1\n",
      "  Downloading pyparsing-3.2.1-py3-none-any.whl (107 kB)\n",
      "     -------------------------------------- 107.7/107.7 kB 6.1 MB/s eta 0:00:00\n",
      "Requirement already satisfied: pillow>=8 in c:\\users\\lenovo\\appdata\\local\\programs\\python\\python310\\lib\\site-packages (from matplotlib) (11.1.0)\n",
      "Requirement already satisfied: six>=1.5 in c:\\users\\lenovo\\appdata\\roaming\\python\\python310\\site-packages (from python-dateutil>=2.7->matplotlib) (1.17.0)\n",
      "Installing collected packages: pyparsing, kiwisolver, fonttools, cycler, contourpy, matplotlib\n",
      "Successfully installed contourpy-1.3.1 cycler-0.12.1 fonttools-4.56.0 kiwisolver-1.4.8 matplotlib-3.10.0 pyparsing-3.2.1\n",
      "Note: you may need to restart the kernel to use updated packages.\n"
     ]
    },
    {
     "name": "stderr",
     "output_type": "stream",
     "text": [
      "  WARNING: The scripts fonttools.exe, pyftmerge.exe, pyftsubset.exe and ttx.exe are installed in 'c:\\Users\\Lenovo\\AppData\\Local\\Programs\\Python\\Python310\\Scripts' which is not on PATH.\n",
      "  Consider adding this directory to PATH or, if you prefer to suppress this warning, use --no-warn-script-location.\n",
      "\n",
      "[notice] A new release of pip available: 22.3.1 -> 25.0.1\n",
      "[notice] To update, run: python.exe -m pip install --upgrade pip\n"
     ]
    }
   ],
   "source": [
    "pip install matplotlib"
   ]
  },
  {
   "cell_type": "code",
   "execution_count": 14,
   "metadata": {},
   "outputs": [
    {
     "name": "stdout",
     "output_type": "stream",
     "text": [
      "Collecting scipy\n",
      "  Downloading scipy-1.15.1-cp310-cp310-win_amd64.whl (43.9 MB)\n",
      "     --------------------------------------- 43.9/43.9 MB 18.2 MB/s eta 0:00:00\n",
      "Requirement already satisfied: numpy<2.5,>=1.23.5 in c:\\users\\lenovo\\appdata\\local\\programs\\python\\python310\\lib\\site-packages (from scipy) (2.1.3)\n",
      "Installing collected packages: scipy\n",
      "Successfully installed scipy-1.15.1\n",
      "Note: you may need to restart the kernel to use updated packages.\n"
     ]
    },
    {
     "name": "stderr",
     "output_type": "stream",
     "text": [
      "\n",
      "[notice] A new release of pip available: 22.3.1 -> 25.0.1\n",
      "[notice] To update, run: python.exe -m pip install --upgrade pip\n"
     ]
    }
   ],
   "source": [
    "pip install scipy"
   ]
  }
 ],
 "metadata": {
  "kernelspec": {
   "display_name": "Python 3",
   "language": "python",
   "name": "python3"
  },
  "language_info": {
   "codemirror_mode": {
    "name": "ipython",
    "version": 3
   },
   "file_extension": ".py",
   "mimetype": "text/x-python",
   "name": "python",
   "nbconvert_exporter": "python",
   "pygments_lexer": "ipython3",
   "version": "3.10.10"
  }
 },
 "nbformat": 4,
 "nbformat_minor": 2
}
